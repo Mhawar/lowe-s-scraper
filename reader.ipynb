{
 "cells": [
  {
   "cell_type": "code",
   "execution_count": null,
   "metadata": {},
   "outputs": [],
   "source": [
    "\n",
    "file_name = 'Promo1.txt' #Put here your file\n",
    "\n",
    "with open(file_name,'r') as fnr:\n",
    "    text = fnr.readlines()\n",
    "\n",
    "text =''.join([\"\\\"\"+line.strip() +\"\\\",\" for line in text])\n",
    "\n",
    "with open(file_name,'w') as fnw:\n",
    "    fnw.write(text)\n",
    "    print(text)"
   ]
  },
  {
   "cell_type": "code",
   "execution_count": 2,
   "metadata": {},
   "outputs": [
    {
     "ename": "NameError",
     "evalue": "name 'page' is not defined",
     "output_type": "error",
     "traceback": [
      "\u001b[1;31m---------------------------------------------------------------------------\u001b[0m",
      "\u001b[1;31mNameError\u001b[0m                                 Traceback (most recent call last)",
      "\u001b[1;32m~\\AppData\\Local\\Temp/ipykernel_2688/3740217879.py\u001b[0m in \u001b[0;36m<module>\u001b[1;34m\u001b[0m\n\u001b[1;32m----> 1\u001b[1;33m \u001b[0mHey\u001b[0m \u001b[1;33m=\u001b[0m \u001b[0mbool\u001b[0m\u001b[1;33m(\u001b[0m\u001b[0mpage\u001b[0m\u001b[1;33m.\u001b[0m\u001b[0mclick\u001b[0m\u001b[1;33m(\u001b[0m\u001b[1;34m\"div[role=\\\"alert\\\"]:has-text(\\\"Promotional code\\\")\"\u001b[0m\u001b[1;33m)\u001b[0m\u001b[1;33m)\u001b[0m\u001b[1;33m\u001b[0m\u001b[1;33m\u001b[0m\u001b[0m\n\u001b[0m\u001b[0;32m      2\u001b[0m \u001b[0mprint\u001b[0m\u001b[1;33m(\u001b[0m\u001b[0mHey\u001b[0m\u001b[1;33m)\u001b[0m\u001b[1;33m\u001b[0m\u001b[1;33m\u001b[0m\u001b[0m\n",
      "\u001b[1;31mNameError\u001b[0m: name 'page' is not defined"
     ]
    }
   ],
   "source": [
    "Hey = bool(page.click(\"div[role=\\\"alert\\\"]:has-text(\\\"Promotional code\\\")\"))\n",
    "print(Hey)"
   ]
  },
  {
   "cell_type": "code",
   "execution_count": 1,
   "metadata": {},
   "outputs": [
    {
     "ename": "Error",
     "evalue": "It looks like you are using Playwright Sync API inside the asyncio loop.\nPlease use the Async API instead.",
     "output_type": "error",
     "traceback": [
      "\u001b[1;31m---------------------------------------------------------------------------\u001b[0m",
      "\u001b[1;31mError\u001b[0m                                     Traceback (most recent call last)",
      "\u001b[1;32m~\\AppData\\Local\\Temp/ipykernel_9324/3631630439.py\u001b[0m in \u001b[0;36m<module>\u001b[1;34m\u001b[0m\n\u001b[0;32m     14\u001b[0m \u001b[1;33m\u001b[0m\u001b[0m\n\u001b[0;32m     15\u001b[0m \u001b[1;32mfor\u001b[0m \u001b[0mx\u001b[0m \u001b[1;32min\u001b[0m \u001b[0mList\u001b[0m\u001b[1;33m:\u001b[0m\u001b[1;33m\u001b[0m\u001b[1;33m\u001b[0m\u001b[0m\n\u001b[1;32m---> 16\u001b[1;33m   \u001b[1;32mwith\u001b[0m \u001b[0msync_playwright\u001b[0m\u001b[1;33m(\u001b[0m\u001b[1;33m)\u001b[0m \u001b[1;32mas\u001b[0m \u001b[0mp\u001b[0m\u001b[1;33m:\u001b[0m\u001b[1;33m\u001b[0m\u001b[1;33m\u001b[0m\u001b[0m\n\u001b[0m\u001b[0;32m     17\u001b[0m      \u001b[0mbrowser\u001b[0m \u001b[1;33m=\u001b[0m \u001b[0mp\u001b[0m\u001b[1;33m.\u001b[0m\u001b[0mfirefox\u001b[0m\u001b[1;33m.\u001b[0m\u001b[0mlaunch\u001b[0m\u001b[1;33m(\u001b[0m\u001b[0mheadless\u001b[0m\u001b[1;33m=\u001b[0m\u001b[1;32mFalse\u001b[0m\u001b[1;33m)\u001b[0m\u001b[1;33m\u001b[0m\u001b[1;33m\u001b[0m\u001b[0m\n\u001b[0;32m     18\u001b[0m \u001b[1;33m\u001b[0m\u001b[0m\n",
      "\u001b[1;32m~\\AppData\\Local\\Programs\\Python\\Python39\\lib\\site-packages\\playwright\\sync_api\\_context_manager.py\u001b[0m in \u001b[0;36m__enter__\u001b[1;34m(self)\u001b[0m\n\u001b[0;32m     40\u001b[0m             \u001b[0mown_loop\u001b[0m \u001b[1;33m=\u001b[0m \u001b[0mloop\u001b[0m\u001b[1;33m\u001b[0m\u001b[1;33m\u001b[0m\u001b[0m\n\u001b[0;32m     41\u001b[0m         \u001b[1;32mif\u001b[0m \u001b[0mloop\u001b[0m\u001b[1;33m.\u001b[0m\u001b[0mis_running\u001b[0m\u001b[1;33m(\u001b[0m\u001b[1;33m)\u001b[0m\u001b[1;33m:\u001b[0m\u001b[1;33m\u001b[0m\u001b[1;33m\u001b[0m\u001b[0m\n\u001b[1;32m---> 42\u001b[1;33m             raise Error(\n\u001b[0m\u001b[0;32m     43\u001b[0m                 \"\"\"It looks like you are using Playwright Sync API inside the asyncio loop.\n\u001b[0;32m     44\u001b[0m Please use the Async API instead.\"\"\"\n",
      "\u001b[1;31mError\u001b[0m: It looks like you are using Playwright Sync API inside the asyncio loop.\nPlease use the Async API instead."
     ]
    }
   ],
   "source": [
    "from playwright.sync_api import sync_playwright\n",
    "import time\n",
    "import pandas as pd\n",
    "import csv\n",
    "\n",
    "df = pd.read_csv('Promocode.csv')\n",
    "List = ['471293785610449' , '471293247910445']\n",
    "\n",
    "f = open('VALID CODES.txt','a')\n",
    "f2 = open('INVALID CODES.txt','a')\n",
    "\n",
    "\n",
    "i = 0\n",
    "\n",
    "for x in List:\n",
    "  with sync_playwright() as p:\n",
    "     browser = p.firefox.launch(headless=False)\n",
    "\n",
    "     # create a new incognito browser context\n",
    "     context = browser.new_context()\n",
    "\n",
    "     # create a new page inside context.\n",
    "     page = context.new_page()\n",
    " \n",
    "  \n",
    "    \n",
    "     page.goto('https://www.lowes.com/')\n",
    "\n",
    "     # Mouse move \n",
    "     page.mouse.move(0, 100)\n",
    "\n",
    "     page.fill('input#search-query' , 'smart tv')\n",
    "     print(1)\n",
    " \n",
    "     page.mouse.move(100, 10)\n",
    "\n",
    "     page.click('#frmQuickSearch > section > button')\n",
    "     page.mouse.move(100, 10)\n",
    "     print(2)\n",
    "     time.sleep(3)\n",
    "     page.click('#add-to-cart-button-5002068535')\n",
    "     page.mouse.move(40, 103)\n",
    "     \n",
    "     print(3)\n",
    "     \n",
    "     page.click(\"text=View Cart\")\n",
    "     page.mouse.move(56, 200)\n",
    "     page.mouse.wheel(0,100)\n",
    "     print(4)\n",
    "\n",
    "     page.click('#app > div.sc-fMfAsl.kpyQUO > div.sc-pVTFL.iPjCUm.sc-dlVxhl.sc-ezDxBL.dvqZOE.HXcio > div > div.sc-kDTinF.dwAnLX > div > div > div > div.sc-pVTFL.iPjCUm > div.sc-kSWJqS.bcCgiM > div > a')\n",
    "     print(5)\n",
    "     page.mouse.move(90, 133)\n",
    "    \n",
    "\n",
    "     page.click(\".sc-kDTinF.dwAnLX\")\n",
    "     print(6)\n",
    "     Promo = str(List[i])\n",
    "     print('Wait for input to be filled')\n",
    "\n",
    "\n",
    "     #Adding the promocode\n",
    "     page.fill('[aria-label=\\\"input\\\"]', Promo)\n",
    "     print('Filled')\n",
    "\n",
    "     page.click(\"text=Apply\")\n",
    "     print('Applied')\n",
    "     \n",
    "     #The ++\n",
    "     i = i + 1\n",
    "     time.sleep(3)\n",
    "     visible = bool(page.is_visible(\"div[role=\\\"alert\\\"]:has-text(\\\"Promotional code\\\")\"))"
   ]
  },
  {
   "cell_type": "code",
   "execution_count": null,
   "metadata": {},
   "outputs": [],
   "source": [
    "from pandas import DataFrame\n",
    "import pandas as pd\n",
    "\n",
    "filename= r'Promocode.xlsx'\n",
    "df = pd.read_excel(filename)\n",
    "\n",
    "\n",
    "promocode = list(df['Promo code'])\n",
    "print(promocode)\n"
   ]
  },
  {
   "cell_type": "code",
   "execution_count": 40,
   "metadata": {},
   "outputs": [
    {
     "name": "stdout",
     "output_type": "stream",
     "text": [
      "472596057512540\n",
      "472596910212549\n",
      "472596760412540\n",
      "472593698912548\n",
      "472592432112541\n",
      "472593670912542\n",
      "472599271512549\n",
      "472598756112540\n",
      "472593969512545\n",
      "472597351712544\n"
     ]
    }
   ],
   "source": [
    "import pandas as pd\n",
    "df = pd.read_csv('Promocode.csv')\n",
    "i = 0\n",
    "List = df['Promo code'].to_list()\n",
    "for i in range(10):\n",
    " promo = List[i]\n",
    " print(str(promo))\n",
    " i=i+1"
   ]
  },
  {
   "cell_type": "code",
   "execution_count": null,
   "metadata": {},
   "outputs": [],
   "source": [
    "f = open(\"Promo1.txt\")\n",
    "f.readlines()"
   ]
  },
  {
   "cell_type": "code",
   "execution_count": null,
   "metadata": {},
   "outputs": [],
   "source": [
    "f = open(\"Promo1.txt\")\n",
    "f.read()"
   ]
  }
 ],
 "metadata": {
  "interpreter": {
   "hash": "deec8890d2494b74754f1e47a82f08d76c463e069116085c021b0af90aca0095"
  },
  "kernelspec": {
   "display_name": "Python 3.9.0 64-bit",
   "language": "python",
   "name": "python3"
  },
  "language_info": {
   "codemirror_mode": {
    "name": "ipython",
    "version": 3
   },
   "file_extension": ".py",
   "mimetype": "text/x-python",
   "name": "python",
   "nbconvert_exporter": "python",
   "pygments_lexer": "ipython3",
   "version": "3.9.0"
  },
  "orig_nbformat": 4
 },
 "nbformat": 4,
 "nbformat_minor": 2
}
