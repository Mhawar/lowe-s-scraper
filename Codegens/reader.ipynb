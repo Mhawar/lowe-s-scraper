{
 "cells": [
  {
   "cell_type": "code",
   "execution_count": null,
   "metadata": {},
   "outputs": [],
   "source": [
    "\n",
    "file_name = 'Promo1.txt' #Put here your file\n",
    "\n",
    "with open(file_name,'r') as fnr:\n",
    "    text = fnr.readlines()\n",
    "\n",
    "text =''.join([\"\\\"\"+line.strip() +\"\\\",\" for line in text])\n",
    "\n",
    "with open(file_name,'w') as fnw:\n",
    "    fnw.write(text)\n",
    "    print(text)"
   ]
  },
  {
   "cell_type": "code",
   "execution_count": null,
   "metadata": {},
   "outputs": [],
   "source": [
    "from pandas import DataFrame\n",
    "import pandas as pd\n",
    "\n",
    "filename= r'Promocode.xlsx'\n",
    "df = pd.read_excel(filename)\n",
    "\n",
    "\n",
    "promocode = list(df['Promo code'])\n",
    "print(promocode)\n"
   ]
  },
  {
   "cell_type": "code",
   "execution_count": 40,
   "metadata": {},
   "outputs": [
    {
     "name": "stdout",
     "output_type": "stream",
     "text": [
      "472596057512540\n",
      "472596910212549\n",
      "472596760412540\n",
      "472593698912548\n",
      "472592432112541\n",
      "472593670912542\n",
      "472599271512549\n",
      "472598756112540\n",
      "472593969512545\n",
      "472597351712544\n"
     ]
    }
   ],
   "source": [
    "import pandas as pd\n",
    "df = pd.read_csv('Promocode.csv')\n",
    "i = 0\n",
    "List = df['Promo code'].to_list()\n",
    "for i in range(10):\n",
    " promo = List[i]\n",
    " print(str(promo))\n",
    " i=i+1"
   ]
  },
  {
   "cell_type": "code",
   "execution_count": null,
   "metadata": {},
   "outputs": [],
   "source": [
    "f = open(\"Promo1.txt\")\n",
    "f.readlines()"
   ]
  },
  {
   "cell_type": "code",
   "execution_count": null,
   "metadata": {},
   "outputs": [],
   "source": [
    "f = open(\"Promo1.txt\")\n",
    "f.read()"
   ]
  }
 ],
 "metadata": {
  "interpreter": {
   "hash": "deec8890d2494b74754f1e47a82f08d76c463e069116085c021b0af90aca0095"
  },
  "kernelspec": {
   "display_name": "Python 3.9.0 64-bit",
   "language": "python",
   "name": "python3"
  },
  "language_info": {
   "codemirror_mode": {
    "name": "ipython",
    "version": 3
   },
   "file_extension": ".py",
   "mimetype": "text/x-python",
   "name": "python",
   "nbconvert_exporter": "python",
   "pygments_lexer": "ipython3",
   "version": "3.9.0"
  },
  "orig_nbformat": 4
 },
 "nbformat": 4,
 "nbformat_minor": 2
}
